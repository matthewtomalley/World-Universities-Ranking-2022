{
 "cells": [
  {
   "cell_type": "code",
   "execution_count": 39,
   "id": "ba06cfd9",
   "metadata": {},
   "outputs": [],
   "source": [
    "import os\n",
    "import json\n",
    "from dotenv import load_dotenv\n",
    "from kaggle.api.kaggle_api_extended import KaggleApi\n",
    "import pandas as pd"
   ]
  },
  {
   "cell_type": "code",
   "execution_count": 40,
   "id": "3f19eb64",
   "metadata": {},
   "outputs": [],
   "source": [
    "# Load credentials from .env file \n",
    "load_dotenv(dotenv_path=\"../data/.env\")\n",
    "\n",
    "# Read the values\n",
    "username = os.getenv(\"KAGGLE_USERNAME\")\n",
    "key = os.getenv(\"KAGGLE_KEY\")\n",
    "\n",
    "# Create ~/.config/kaggle directory and kaggle.json\n",
    "kaggle_dir = os.path.expanduser(\"~/.config/kaggle\")\n",
    "os.makedirs(kaggle_dir, exist_ok=True)\n",
    "\n",
    "kaggle_json_path = os.path.join(kaggle_dir, \"kaggle.json\")\n",
    "with open(kaggle_json_path, \"w\") as f:\n",
    "    json.dump({\"username\": username, \"key\": key}, f)\n",
    "\n"
   ]
  },
  {
   "cell_type": "code",
   "execution_count": 41,
   "id": "d93584df",
   "metadata": {},
   "outputs": [
    {
     "name": "stdout",
     "output_type": "stream",
     "text": [
      "Saving to: /home/vscode/.config/kaggle/kaggle.json\n",
      "File exists? True\n"
     ]
    }
   ],
   "source": [
    "print(\"Saving to:\", kaggle_json_path)\n",
    "print(\"File exists?\", os.path.exists(kaggle_json_path))"
   ]
  },
  {
   "cell_type": "code",
   "execution_count": 42,
   "id": "c61f2fd0",
   "metadata": {},
   "outputs": [],
   "source": [
    "os.chmod(kaggle_json_path, 0o600)\n",
    "api = KaggleApi()\n",
    "api.authenticate()\n"
   ]
  },
  {
   "cell_type": "code",
   "execution_count": 43,
   "id": "f29b4db9",
   "metadata": {},
   "outputs": [
    {
     "name": "stdout",
     "output_type": "stream",
     "text": [
      "Dataset URL: https://www.kaggle.com/datasets/aneesayoub/world-universities-ranking-2022\n",
      "Dataset URL: https://www.kaggle.com/datasets/aneesayoub/world-universities-ranking-2022\n",
      "Dataset URL: https://www.kaggle.com/datasets/aneesayoub/world-universities-ranking-2022\n",
      "Dataset URL: https://www.kaggle.com/datasets/aneesayoub/world-universities-ranking-2022\n"
     ]
    },
    {
     "data": {
      "text/plain": [
       "False"
      ]
     },
     "execution_count": 43,
     "metadata": {},
     "output_type": "execute_result"
    }
   ],
   "source": [
    "api.dataset_download_file('aneesayoub/world-universities-ranking-2022', 'Asia top 100 Universities.csv')\n",
    "api.dataset_download_file('aneesayoub/world-universities-ranking-2022', 'Pak top 100 universities.csv')\n",
    "api.dataset_download_file('aneesayoub/world-universities-ranking-2022', 'Top 300 universities of World.csv')\n",
    "api.dataset_download_file('aneesayoub/world-universities-ranking-2022', 'europ top 100 Universities.csv')"
   ]
  },
  {
   "cell_type": "code",
   "execution_count": 48,
   "id": "d6b7da11",
   "metadata": {},
   "outputs": [
    {
     "ename": "FileNotFoundError",
     "evalue": "[Errno 2] No such file or directory: 'workspaces/World-Universities-Ranking-2022/data/raw/Asia%20top%20100%20Universities.csv' -> 'workspaces/World-Universities-Ranking-2022/data/raw/asia.csv'",
     "output_type": "error",
     "traceback": [
      "\u001b[31m---------------------------------------------------------------------------\u001b[39m",
      "\u001b[31mFileNotFoundError\u001b[39m                         Traceback (most recent call last)",
      "\u001b[36mCell\u001b[39m\u001b[36m \u001b[39m\u001b[32mIn[48]\u001b[39m\u001b[32m, line 1\u001b[39m\n\u001b[32m----> \u001b[39m\u001b[32m1\u001b[39m \u001b[43mos\u001b[49m\u001b[43m.\u001b[49m\u001b[43mrename\u001b[49m\u001b[43m(\u001b[49m\u001b[33;43m'\u001b[39;49m\u001b[33;43mworkspaces/World-Universities-Ranking-2022/data/raw/Asia\u001b[39;49m\u001b[33;43m%\u001b[39;49m\u001b[33;43m20top\u001b[39;49m\u001b[38;5;132;43;01m%20100%\u001b[39;49;00m\u001b[33;43m20Universities.csv\u001b[39;49m\u001b[33;43m'\u001b[39;49m\u001b[43m,\u001b[49m\u001b[43m \u001b[49m\u001b[33;43m'\u001b[39;49m\u001b[33;43mworkspaces/World-Universities-Ranking-2022/data/raw/asia.csv\u001b[39;49m\u001b[33;43m'\u001b[39;49m\u001b[43m)\u001b[49m\n",
      "\u001b[31mFileNotFoundError\u001b[39m: [Errno 2] No such file or directory: 'workspaces/World-Universities-Ranking-2022/data/raw/Asia%20top%20100%20Universities.csv' -> 'workspaces/World-Universities-Ranking-2022/data/raw/asia.csv'"
     ]
    }
   ],
   "source": [
    "os.rename('workspaces/World-Universities-Ranking-2022/data/raw/Asia%20top%20100%20Universities.csv', 'workspaces/World-Universities-Ranking-2022/data/raw/asia.csv')\n"
   ]
  },
  {
   "cell_type": "code",
   "execution_count": 51,
   "id": "56c20e04",
   "metadata": {},
   "outputs": [
    {
     "data": {
      "text/plain": [
       "'/workspaces/World-Universities-Ranking-2022/data/raw'"
      ]
     },
     "execution_count": 51,
     "metadata": {},
     "output_type": "execute_result"
    }
   ],
   "source": [
    "os.getcwd()"
   ]
  },
  {
   "cell_type": "code",
   "execution_count": 52,
   "id": "cddb4d56",
   "metadata": {},
   "outputs": [
    {
     "data": {
      "text/plain": [
       "['.gitkeep',\n",
       " 'pipeline.ipynb',\n",
       " 'Pak%20top%20100%20universities.csv',\n",
       " 'Asia%20top%20100%20Universities.csv',\n",
       " 'europ%20top%20100%20Universities.csv',\n",
       " 'Top%20300%20universities%20of%20World.csv']"
      ]
     },
     "execution_count": 52,
     "metadata": {},
     "output_type": "execute_result"
    }
   ],
   "source": [
    "os.listdir()"
   ]
  },
  {
   "cell_type": "code",
   "execution_count": 55,
   "id": "bb6aa976",
   "metadata": {},
   "outputs": [
    {
     "data": {
      "text/html": [
       "<div>\n",
       "<style scoped>\n",
       "    .dataframe tbody tr th:only-of-type {\n",
       "        vertical-align: middle;\n",
       "    }\n",
       "\n",
       "    .dataframe tbody tr th {\n",
       "        vertical-align: top;\n",
       "    }\n",
       "\n",
       "    .dataframe thead th {\n",
       "        text-align: right;\n",
       "    }\n",
       "</style>\n",
       "<table border=\"1\" class=\"dataframe\">\n",
       "  <thead>\n",
       "    <tr style=\"text-align: right;\">\n",
       "      <th></th>\n",
       "      <th>name</th>\n",
       "      <th>world_ranking</th>\n",
       "      <th>asia_ranking</th>\n",
       "      <th>contry_ranking</th>\n",
       "      <th>country</th>\n",
       "      <th>city</th>\n",
       "      <th>type</th>\n",
       "      <th>acceptance_rat</th>\n",
       "      <th>publication</th>\n",
       "      <th>high_degree</th>\n",
       "      <th>web</th>\n",
       "      <th>language</th>\n",
       "      <th>Unnamed: 12</th>\n",
       "      <th>Unnamed: 13</th>\n",
       "    </tr>\n",
       "  </thead>\n",
       "  <tbody>\n",
       "    <tr>\n",
       "      <th>0</th>\n",
       "      <td>Ankara University</td>\n",
       "      <td>#581 / 14,131</td>\n",
       "      <td>#95 / 5,830</td>\n",
       "      <td>#3 / 175</td>\n",
       "      <td>Turkey</td>\n",
       "      <td>Ankara</td>\n",
       "      <td>Non-profit</td>\n",
       "      <td>43%</td>\n",
       "      <td>23,329</td>\n",
       "      <td>Doctorate</td>\n",
       "      <td>www.ankara.edu.tr</td>\n",
       "      <td>Turkish;English</td>\n",
       "      <td>+90 (312) 212 6040</td>\n",
       "      <td>Rektörlügü, Dögol Caddesi, Tandogan\\n Ankara, ...</td>\n",
       "    </tr>\n",
       "    <tr>\n",
       "      <th>1</th>\n",
       "      <td>Bar-Ilan University</td>\n",
       "      <td>#480 / 14,131</td>\n",
       "      <td>#71 / 5,830</td>\n",
       "      <td>#6 / 36</td>\n",
       "      <td>Israel</td>\n",
       "      <td>Ramat Gan</td>\n",
       "      <td>Non-profit</td>\n",
       "      <td>49%</td>\n",
       "      <td>31,391</td>\n",
       "      <td>Bachelor</td>\n",
       "      <td>www.biu.ac.il</td>\n",
       "      <td>Hebrew;English</td>\n",
       "      <td>+972 (3) 5318 111</td>\n",
       "      <td>Ramat Gan, Tel Aviv District, 52100 \\nIsrael</td>\n",
       "    </tr>\n",
       "    <tr>\n",
       "      <th>2</th>\n",
       "      <td>Beihang University</td>\n",
       "      <td>#412 / 14,131</td>\n",
       "      <td>#56 / 5,830</td>\n",
       "      <td>#29 / 960</td>\n",
       "      <td>China</td>\n",
       "      <td>Beijing</td>\n",
       "      <td>Non-profit</td>\n",
       "      <td>44%</td>\n",
       "      <td>67,291</td>\n",
       "      <td>Bachelor</td>\n",
       "      <td>buaa.edu.cn</td>\n",
       "      <td>Chinese;English</td>\n",
       "      <td>+86 (10) 8231 7685</td>\n",
       "      <td>37 Xueyuan Road, Haidian District\\n Beijing, B...</td>\n",
       "    </tr>\n",
       "    <tr>\n",
       "      <th>3</th>\n",
       "      <td>Beijing Institute of Technology</td>\n",
       "      <td>#472 / 14,131</td>\n",
       "      <td>#68 / 5,830</td>\n",
       "      <td>#34 / 960</td>\n",
       "      <td>China</td>\n",
       "      <td>Beijing</td>\n",
       "      <td>Non-profit</td>\n",
       "      <td>38%</td>\n",
       "      <td>58,229</td>\n",
       "      <td>Doctorate</td>\n",
       "      <td>bit.edu.cn</td>\n",
       "      <td>Chinese;English</td>\n",
       "      <td>+86 (10) 6891 1438</td>\n",
       "      <td>5 Zhongguancun South Street, Haidian District\\...</td>\n",
       "    </tr>\n",
       "    <tr>\n",
       "      <th>4</th>\n",
       "      <td>Beijing Normal University</td>\n",
       "      <td>#336 / 14,131</td>\n",
       "      <td>#43 / 5,830</td>\n",
       "      <td>#21 / 960</td>\n",
       "      <td>China</td>\n",
       "      <td>Beijing</td>\n",
       "      <td>Non-profit</td>\n",
       "      <td>43%</td>\n",
       "      <td>50,080</td>\n",
       "      <td>Bachelor</td>\n",
       "      <td>www.bnu.edu.cn</td>\n",
       "      <td>Chinese;English</td>\n",
       "      <td>NaN</td>\n",
       "      <td>19 Xinwai Dajie\\n Beijing, Beijing, 100875 \\nC...</td>\n",
       "    </tr>\n",
       "  </tbody>\n",
       "</table>\n",
       "</div>"
      ],
      "text/plain": [
       "                              name  world_ranking asia_ranking contry_ranking  \\\n",
       "0                Ankara University  #581 / 14,131  #95 / 5,830       #3 / 175   \n",
       "1              Bar-Ilan University  #480 / 14,131  #71 / 5,830        #6 / 36   \n",
       "2               Beihang University  #412 / 14,131  #56 / 5,830      #29 / 960   \n",
       "3  Beijing Institute of Technology  #472 / 14,131  #68 / 5,830      #34 / 960   \n",
       "4        Beijing Normal University  #336 / 14,131  #43 / 5,830      #21 / 960   \n",
       "\n",
       "  country       city        type acceptance_rat publication high_degree  \\\n",
       "0  Turkey     Ankara  Non-profit            43%      23,329   Doctorate   \n",
       "1  Israel  Ramat Gan  Non-profit            49%      31,391    Bachelor   \n",
       "2   China    Beijing  Non-profit            44%      67,291    Bachelor   \n",
       "3   China    Beijing  Non-profit            38%      58,229   Doctorate   \n",
       "4   China    Beijing  Non-profit            43%      50,080    Bachelor   \n",
       "\n",
       "                 web         language         Unnamed: 12  \\\n",
       "0  www.ankara.edu.tr  Turkish;English  +90 (312) 212 6040   \n",
       "1      www.biu.ac.il   Hebrew;English   +972 (3) 5318 111   \n",
       "2        buaa.edu.cn  Chinese;English  +86 (10) 8231 7685   \n",
       "3         bit.edu.cn  Chinese;English  +86 (10) 6891 1438   \n",
       "4     www.bnu.edu.cn  Chinese;English                 NaN   \n",
       "\n",
       "                                         Unnamed: 13  \n",
       "0  Rektörlügü, Dögol Caddesi, Tandogan\\n Ankara, ...  \n",
       "1       Ramat Gan, Tel Aviv District, 52100 \\nIsrael  \n",
       "2  37 Xueyuan Road, Haidian District\\n Beijing, B...  \n",
       "3  5 Zhongguancun South Street, Haidian District\\...  \n",
       "4  19 Xinwai Dajie\\n Beijing, Beijing, 100875 \\nC...  "
      ]
     },
     "execution_count": 55,
     "metadata": {},
     "output_type": "execute_result"
    }
   ],
   "source": [
    "asia = pd.read_csv('/workspaces/World-Universities-Ranking-2022/data/raw/Asia%20top%20100%20Universities.csv')\n",
    "asia.head()"
   ]
  }
 ],
 "metadata": {
  "kernelspec": {
   "display_name": "Python 3",
   "language": "python",
   "name": "python3"
  },
  "language_info": {
   "codemirror_mode": {
    "name": "ipython",
    "version": 3
   },
   "file_extension": ".py",
   "mimetype": "text/x-python",
   "name": "python",
   "nbconvert_exporter": "python",
   "pygments_lexer": "ipython3",
   "version": "3.11.4"
  }
 },
 "nbformat": 4,
 "nbformat_minor": 5
}
